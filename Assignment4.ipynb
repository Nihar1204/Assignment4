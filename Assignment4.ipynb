{
 "cells": [
  {
   "cell_type": "code",
   "execution_count": 1,
   "id": "d77785a8-e3fb-4a85-a456-e93c59a64cd9",
   "metadata": {},
   "outputs": [
    {
     "name": "stdout",
     "output_type": "stream",
     "text": [
      "('Virat Kohli', 24936)\n",
      "('Jack Kallis', 25534)\n",
      "('Ricky Ponting', 27483)\n",
      "('Sachin Tendulkar', 34357)\n"
     ]
    }
   ],
   "source": [
    "tup_list = [('Sachin Tendulkar', 34357), ('Ricky Ponting', 27483), ('Jack Kallis', 25534), ('Virat Kohli', 24936)]\n",
    "sorted_data = sorted(tup_list, key = lambda x: x[1])\n",
    "for i in sorted_data:\n",
    "    print(i)"
   ]
  },
  {
   "cell_type": "code",
   "execution_count": 2,
   "id": "0fae38ce-aa33-4356-860d-8bc5cd725cd0",
   "metadata": {},
   "outputs": [
    {
     "name": "stdout",
     "output_type": "stream",
     "text": [
      "[1, 4, 9, 16, 25, 36, 49, 64, 81, 100]\n"
     ]
    }
   ],
   "source": [
    "numbers = [1, 2, 3, 4, 5, 6, 7, 8, 9, 10]\n",
    "print(list(map(lambda x: x**2, numbers)))"
   ]
  },
  {
   "cell_type": "code",
   "execution_count": 3,
   "id": "622540f3-59e1-437f-b7ea-34f9a070321d",
   "metadata": {},
   "outputs": [
    {
     "name": "stdout",
     "output_type": "stream",
     "text": [
      "('1', '2', '3', '4', '5', '6', '7', '8', '9', '10')\n"
     ]
    }
   ],
   "source": [
    "integers = [1, 2, 3, 4, 5, 6, 7, 8, 9, 10]\n",
    "print(tuple(map(lambda x: str(x), integers)))"
   ]
  },
  {
   "cell_type": "code",
   "execution_count": 4,
   "id": "c101db91-4d39-4cd1-aaeb-3422bf74139e",
   "metadata": {},
   "outputs": [
    {
     "name": "stdout",
     "output_type": "stream",
     "text": [
      "Product:  15511210043330985984000000\n"
     ]
    }
   ],
   "source": [
    "from functools import reduce\n",
    "num_list = list(range(1, 26))\n",
    "product = reduce(lambda x,y:x*y,num_list)\n",
    "print(\"Product: \",product)"
   ]
  },
  {
   "cell_type": "code",
   "execution_count": 5,
   "id": "6102c565-1e5a-466b-a261-edf7c5b7e721",
   "metadata": {},
   "outputs": [
    {
     "name": "stdout",
     "output_type": "stream",
     "text": [
      "Numbers divisible by 2 and 3:  [6, 60, 90, 120]\n"
     ]
    }
   ],
   "source": [
    "List = [2, 3, 6, 9, 27, 60, 90, 120, 55, 46]\n",
    "new_list=list(filter(lambda x: x%2==0 and x%3==0,List))\n",
    "print(\"Numbers divisible by 2 and 3: \",new_list)"
   ]
  },
  {
   "cell_type": "code",
   "execution_count": 7,
   "id": "94eaa090-f1d1-4f12-b2f9-c1a47f59b50c",
   "metadata": {},
   "outputs": [
    {
     "name": "stdout",
     "output_type": "stream",
     "text": [
      "palindrom:  ['php', 'aba', 'radar', 'level']\n"
     ]
    }
   ],
   "source": [
    "string_list = ['python', 'php', 'aba', 'radar', 'level']\n",
    "palindrom_list = list(filter(lambda x: x == x[::-1], string_list))\n",
    "print(\"palindrom: \",palindrom_list)"
   ]
  }
 ],
 "metadata": {
  "kernelspec": {
   "display_name": "Python 3 (ipykernel)",
   "language": "python",
   "name": "python3"
  },
  "language_info": {
   "codemirror_mode": {
    "name": "ipython",
    "version": 3
   },
   "file_extension": ".py",
   "mimetype": "text/x-python",
   "name": "python",
   "nbconvert_exporter": "python",
   "pygments_lexer": "ipython3",
   "version": "3.10.8"
  }
 },
 "nbformat": 4,
 "nbformat_minor": 5
}
